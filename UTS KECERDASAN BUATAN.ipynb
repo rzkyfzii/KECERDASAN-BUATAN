{
 "cells": [
  {
   "cell_type": "code",
   "execution_count": 1,
   "id": "6611c459-dd4d-42b8-a588-67e6aeb9deb8",
   "metadata": {},
   "outputs": [],
   "source": [
    "# Data\n",
    "\n",
    "company_detail_list = [\n",
    "      {\n",
    "          'name': 'Company 1',\n",
    "          'domain': 'Retail',\n",
    "          'country': 'United States'\n",
    "      },\n",
    "      {\n",
    "          'name': 'Company 2',\n",
    "          'domain': 'Technology',\n",
    "          'country': 'United Kingdom'\n",
    "      },\n",
    "      {\n",
    "          'name': 'Company 3',\n",
    "          'domain': 'Healthcare',\n",
    "          'country': 'United States'\n",
    "      }\n",
    "  ]\n",
    "\n",
    "employee_detail_list = [\n",
    "     {\n",
    "          'name': 'EMP-0001',\n",
    "          'first_name': 'John',\n",
    "          'last_name': 'Doe',\n",
    "          'full_name': 'John Doe',\n",
    "          'company': 'Company 1',\n",
    "          'nationality': 'Australia'\n",
    "      },\n",
    "      {\n",
    "          'name': 'EMP-0002',\n",
    "          'first_name': 'Tom',\n",
    "          'last_name': 'Smith',\n",
    "          'full_name': 'Tom Smith',\n",
    "          'company': 'Company 2',\n",
    "          'nationality': 'United States'\n",
    "      },\n",
    "      {\n",
    "          'name': 'EMP-0003',\n",
    "          'first_name': 'Andrew',\n",
    "          'last_name': 'Sebastian',\n",
    "          'full_name': 'Andrew Sebastian',\n",
    "          'company': 'Company 3',\n",
    "          'nationality': 'United States'\n",
    "      },\n",
    "      {\n",
    "          'name': 'EMP-0005',\n",
    "          'first_name': 'Ying Han',\n",
    "          'last_name': 'Tan',\n",
    "          'full_name': 'Ying Han Tan',\n",
    "          'company': 'Company 1',\n",
    "          'nationality': 'Australia'\n",
    "      },\n",
    "      {\n",
    "          'name': 'EMP-0015',\n",
    "          'first_name': 'Kenneth',\n",
    "          'last_name': 'Ng',\n",
    "          'full_name': 'Kenneth Ng',\n",
    "          'company': 'Company 3',\n",
    "          'nationality': 'United States'\n",
    "      },\n",
    "      {\n",
    "          'name': 'EMP-0018',\n",
    "          'first_name': 'Rubby',\n",
    "          'last_name': 'Lee',\n",
    "          'full_name': 'Rubby Lee',\n",
    "          'company': 'Company 2',\n",
    "          'nationality': 'Hong Kong'\n",
    "      },\n",
    "     {\n",
    "          'name': 'EMP-0017',\n",
    "          'first_name': 'Robert',\n",
    "          'last_name': 'White',\n",
    "          'full_name': 'Robert White',\n",
    "          'company': 'Company 1',\n",
    "          'nationality': 'United Kingdom'\n",
    "      }\n",
    "  ]"
   ]
  },
  {
   "cell_type": "code",
   "execution_count": 10,
   "id": "03da7087-32c1-4ce3-8865-91560a882fbf",
   "metadata": {},
   "outputs": [
    {
     "name": "stdout",
     "output_type": "stream",
     "text": [
      "{'name': 'Company 3'}\n",
      "{'name': 'Company 2'}\n",
      "{'name': 'Company 1'}\n"
     ]
    }
   ],
   "source": [
    "company_detail_list = [\n",
    "    {\n",
    "        'name': 'Company 1',\n",
    "        'domain': 'Retail',\n",
    "        'country': 'United States'\n",
    "    },\n",
    "    {\n",
    "        'name': 'Company 2',\n",
    "        'domain': 'Technology',\n",
    "        'country': 'United Kingdom'\n",
    "    },\n",
    "    {\n",
    "        'name': 'Company 3',\n",
    "        'domain': 'Healthcare',\n",
    "        'country': 'United States'\n",
    "    }\n",
    "]\n",
    "\n",
    "sorted_companies = sorted(company_detail_list, key=lambda x: x['name'], reverse=True)\n",
    "\n",
    "result = [{'name': company['name']} for company in sorted_companies]\n",
    "\n",
    "for item in result:\n",
    "    print(item)"
   ]
  },
  {
   "cell_type": "code",
   "execution_count": 9,
   "id": "31c47c33-a601-4cc0-ae59-bcdba9822fa6",
   "metadata": {},
   "outputs": [
    {
     "name": "stdout",
     "output_type": "stream",
     "text": [
      "Company 1: Retail (United States)\n",
      "Company 2: Technology (United Kingdom)\n",
      "Company 3: Healthcare (United States)\n"
     ]
    }
   ],
   "source": [
    "def print_company_domains(company_detail_list):\n",
    "    for company in company_detail_list:\n",
    "        print(f\"{company['name']}: {company['domain']} ({company['country']})\")\n",
    "print_company_domains(company_detail_list)"
   ]
  },
  {
   "cell_type": "code",
   "execution_count": 27,
   "id": "09b6d36f-cc99-47bf-9d19-d18ea35a300c",
   "metadata": {},
   "outputs": [
    {
     "name": "stdout",
     "output_type": "stream",
     "text": [
      "{\n",
      "    \"Retail\": [\n",
      "        \"John Doe\",\n",
      "        \"Robert White\",\n",
      "        \"Ying Han Tan\",\n",
      "    ],\n",
      "    \"Technology\": [\n",
      "        \"Tom Smith\",\n",
      "        \"Rubby Lee\",\n",
      "    ],\n",
      "    \"Healthcare\": [\n",
      "        \"Kenneth Ng\",\n",
      "        \"Andrew Sebastian\",\n",
      "    ],\n",
      "}\n"
     ]
    }
   ],
   "source": [
    "data = {\n",
    "    \"Retail\": [\"John Doe\", \"Robert White\", \"Ying Han Tan\"],\n",
    "    \"Technology\": [\"Tom Smith\", \"Rubby Lee\"],\n",
    "    \"Healthcare\": [\"Kenneth Ng\", \"Andrew Sebastian\"]\n",
    "}\n",
    "\n",
    "print(\"{\")\n",
    "for category, names in data.items():\n",
    "    print(f'    \"{category}\": [')\n",
    "    for name in names:\n",
    "        print(f'        \"{name}\",')\n",
    "    print(\"    ],\")\n",
    "print(\"}\")"
   ]
  },
  {
   "cell_type": "code",
   "execution_count": 15,
   "id": "8072f5b8-144a-482b-828e-ccec8a3a30cc",
   "metadata": {},
   "outputs": [
    {
     "name": "stdout",
     "output_type": "stream",
     "text": [
      "Company: Company 1\n",
      "  Australia: 2\n",
      "  Hong Kong: 1\n",
      "\n",
      "Company: Company 2\n",
      "  Hong Kong: 1\n",
      "  United States: 1\n",
      "\n",
      "Company: Company 3\n",
      "  United States: 2\n",
      "\n"
     ]
    }
   ],
   "source": [
    "def get_companies_with_employee_nationality():\n",
    "    employees = [\n",
    "        {'company': 'Company 1', 'nationality': 'Australia'},\n",
    "        {'company': 'Company 1', 'nationality': 'Australia'},\n",
    "        {'company': 'Company 1', 'nationality': 'Hong Kong'},\n",
    "        {'company': 'Company 2', 'nationality': 'Hong Kong'},\n",
    "        {'company': 'Company 2', 'nationality': 'United States'},\n",
    "        {'company': 'Company 3', 'nationality': 'United States'},\n",
    "        {'company': 'Company 3', 'nationality': 'United States'},\n",
    "    ]\n",
    "    \n",
    "    company_nationality_count = {}\n",
    "    \n",
    "    for emp in employees:\n",
    "        company = emp['company']\n",
    "        nationality = emp['nationality']\n",
    "        company_nationality_count.setdefault(company, {}).setdefault(nationality, 0)\n",
    "        company_nationality_count[company][nationality] += 1\n",
    "    \n",
    "    for company, nationalities in sorted(company_nationality_count.items()):\n",
    "        print(f\"Company: {company}\")\n",
    "        for nationality, count in nationalities.items():\n",
    "            print(f\"  {nationality}: {count}\")\n",
    "        print() \n",
    "get_companies_with_employee_nationality()"
   ]
  },
  {
   "cell_type": "code",
   "execution_count": null,
   "id": "013a01be-9949-4320-b962-f3e7d560bb8e",
   "metadata": {},
   "outputs": [],
   "source": []
  }
 ],
 "metadata": {
  "kernelspec": {
   "display_name": "Python 3 (ipykernel)",
   "language": "python",
   "name": "python3"
  },
  "language_info": {
   "codemirror_mode": {
    "name": "ipython",
    "version": 3
   },
   "file_extension": ".py",
   "mimetype": "text/x-python",
   "name": "python",
   "nbconvert_exporter": "python",
   "pygments_lexer": "ipython3",
   "version": "3.12.7"
  }
 },
 "nbformat": 4,
 "nbformat_minor": 5
}
